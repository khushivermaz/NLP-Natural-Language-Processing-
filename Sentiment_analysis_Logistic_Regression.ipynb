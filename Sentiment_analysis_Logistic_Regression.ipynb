{
 "cells": [
  {
   "cell_type": "code",
   "execution_count": 1,
   "metadata": {},
   "outputs": [],
   "source": [
    "import numpy as np\n",
    "#import nltk\n",
    "import re\n",
    "from nltk.corpus import stopwords\n",
    "from nltk.stem import PorterStemmer\n",
    "from sklearn.model_selection import train_test_split\n",
    "from sklearn.metrics import accuracy_score\n",
    "from collections import Counter\n",
    "import math\n",
    "#nltk.download(stopwords)"
   ]
  },
  {
   "cell_type": "code",
   "execution_count": null,
   "metadata": {},
   "outputs": [],
   "source": []
  },
  {
   "cell_type": "code",
   "execution_count": 2,
   "metadata": {},
   "outputs": [],
   "source": [
    "# Step 1: Dummy Dataset\n",
    "texts = [\"I love this product\", \\\n",
    "\"I hate this product\", \"This is the best product\", \\\n",
    "\"This is the worst product\"]\n",
    "sentiments = [1, 0, 1, 0] # 1 for positive, 0 for negative"
   ]
  },
  {
   "cell_type": "code",
   "execution_count": 3,
   "metadata": {},
   "outputs": [
    {
     "name": "stdout",
     "output_type": "stream",
     "text": [
      "[['love', 'product'], ['hate', 'product'], ['best', 'product'], ['worst', 'product']]\n"
     ]
    }
   ],
   "source": [
    "# Step 2: Preprocess the Data\n",
    "def preprocess(text):\n",
    "    text = text.lower()\n",
    "    text = re.sub(r'\\W', ' ', text)\n",
    "    words = text.split()\n",
    "    words = [word for word in words if word not in stopwords.words('english')]\n",
    "    ps = PorterStemmer()\n",
    "    words = [ps.stem(word) for word in words]\n",
    "    return words\n",
    "\n",
    "processed_texts = [preprocess(text) for text in texts]\n",
    "print(processed_texts)"
   ]
  },
  {
   "cell_type": "code",
   "execution_count": 4,
   "metadata": {},
   "outputs": [
    {
     "name": "stdout",
     "output_type": "stream",
     "text": [
      "dict_keys(['love', 'product', 'hate', 'best', 'worst'])\n"
     ]
    }
   ],
   "source": [
    "# Step 3: Feature Extraction - Bag of Words\n",
    "def create_bag_of_words(processed_texts):\n",
    "    all_words = sum(processed_texts, [])\n",
    "    bag = Counter(all_words)\n",
    "    return bag.keys()\n",
    "\n",
    "vocab = create_bag_of_words(processed_texts)\n",
    "print(vocab)"
   ]
  },
  {
   "cell_type": "code",
   "execution_count": 5,
   "metadata": {},
   "outputs": [
    {
     "name": "stdout",
     "output_type": "stream",
     "text": [
      "[[1 1 0 0 0]\n",
      " [0 1 1 0 0]\n",
      " [0 1 0 1 0]\n",
      " [0 1 0 0 1]]\n"
     ]
    }
   ],
   "source": [
    "def text_to_vector(text, vocab):\n",
    "    text_counts = Counter(text)\n",
    "    return [text_counts.get(word, 0) for word in vocab]\n",
    "\n",
    "features = np.array([text_to_vector(text, vocab) for text in processed_texts])\n",
    "print(features)"
   ]
  },
  {
   "cell_type": "code",
   "execution_count": 6,
   "metadata": {},
   "outputs": [],
   "source": [
    "# Step 4: Create Target Variable\n",
    "labels = np.array(sentiments)"
   ]
  },
  {
   "cell_type": "code",
   "execution_count": 24,
   "metadata": {},
   "outputs": [
    {
     "name": "stdout",
     "output_type": "stream",
     "text": [
      "[[0 1 0 0 1]\n",
      " [1 1 0 0 0]\n",
      " [0 1 0 1 0]] [0 1 1] [[0 1 1 0 0]] [0]\n"
     ]
    }
   ],
   "source": [
    "# Step 5: Split the Dataset\n",
    "X_train, X_test, y_train, y_test = train_test_split(features, labels, test_size=0.25, random_state=42)\n",
    "print(X_train,y_train,X_test,y_test)"
   ]
  },
  {
   "cell_type": "code",
   "execution_count": 14,
   "metadata": {},
   "outputs": [],
   "source": [
    "# Step 6: Initialize Parameters\n",
    "weights = np.zeros(X_train.shape[1])\n",
    "bias = 0"
   ]
  },
  {
   "cell_type": "code",
   "execution_count": 15,
   "metadata": {},
   "outputs": [],
   "source": [
    "# Step 7: Define the Sigmoid Function\n",
    "def sigmoid(z):\n",
    "    return 1 / (1 + np.exp(-z))"
   ]
  },
  {
   "cell_type": "code",
   "execution_count": 16,
   "metadata": {},
   "outputs": [],
   "source": [
    "# Step 8 & 9: Compute Prediction and Calculate Loss\n",
    "def compute_loss(y, y_hat):\n",
    "    m = y.shape[0]\n",
    "    return -(1/m) * np.sum(y * np.log(y_hat) + (1 - y) * np.log(1 - y_hat))"
   ]
  },
  {
   "cell_type": "code",
   "execution_count": 17,
   "metadata": {},
   "outputs": [],
   "source": [
    "# Step 10: Gradient Descent\n",
    "def update_weights(X, y, weights, bias, learning_rate):\n",
    "    m = X.shape[0]\n",
    "    y_hat = sigmoid(np.dot(X, weights) + bias)\n",
    "    d_weight = (1/m) * np.dot(X.T, (y_hat - y))\n",
    "    d_bias = (1/m) * np.sum(y_hat - y)\n",
    "    weights -= learning_rate * d_weight\n",
    "    bias -= learning_rate * d_bias\n",
    "    return weights, bias"
   ]
  },
  {
   "cell_type": "code",
   "execution_count": 18,
   "metadata": {},
   "outputs": [],
   "source": [
    "# Step 11: Training the Model\n",
    "def train(X, y, weights, bias, learning_rate, epochs):\n",
    "    for epoch in range(epochs):\n",
    "        weights, bias = update_weights(X, y, weights, bias, learning_rate)\n",
    "        y_hat = sigmoid(np.dot(X, weights) + bias)\n",
    "        loss = compute_loss(y, y_hat)\n",
    "        if epoch % 100 == 0:\n",
    "            print(f\"Epoch {epoch}: Loss {loss}\")\n",
    "    return weights, bias"
   ]
  },
  {
   "cell_type": "code",
   "execution_count": 19,
   "metadata": {},
   "outputs": [
    {
     "name": "stdout",
     "output_type": "stream",
     "text": [
      "Epoch 0: Loss 0.6917604907429468\n",
      "Epoch 100: Loss 0.5855804095371726\n",
      "Epoch 200: Loss 0.5151636958954866\n",
      "Epoch 300: Loss 0.4609420604363206\n",
      "Epoch 400: Loss 0.4162448937259538\n",
      "Epoch 500: Loss 0.3783317666272626\n",
      "Epoch 600: Loss 0.34574435769249817\n",
      "Epoch 700: Loss 0.31751405407524347\n",
      "Epoch 800: Loss 0.2929105977407763\n",
      "Epoch 900: Loss 0.2713519368823209\n"
     ]
    }
   ],
   "source": [
    "# Train the model\n",
    "weights, bias = train(X_train, y_train, weights, bias, learning_rate=0.01, epochs=1000)"
   ]
  },
  {
   "cell_type": "code",
   "execution_count": 21,
   "metadata": {},
   "outputs": [
    {
     "name": "stdout",
     "output_type": "stream",
     "text": [
      "[0]\n",
      "[1]\n",
      "Accuracy: 0.0\n"
     ]
    }
   ],
   "source": [
    "# Step 12 & 13: Make Predictions and Evaluate the Model\n",
    "def predict(X, weights, bias):\n",
    "    return [1 if i > 0.5 else 0 for i in sigmoid(np.dot(X, weights) + bias)]\n",
    "print(y_test)\n",
    "print(y_pred)\n",
    "y_pred = predict(X_test, weights, bias)\n",
    "accuracy = accuracy_score(y_test, y_pred)\n",
    "print(f\"Accuracy: {accuracy}\")\n"
   ]
  },
  {
   "cell_type": "code",
   "execution_count": 18,
   "metadata": {},
   "outputs": [],
   "source": [
    "# This code sets up a simple logistic regression model for sentiment analysis."
   ]
  },
  {
   "cell_type": "code",
   "execution_count": null,
   "metadata": {},
   "outputs": [],
   "source": []
  },
  {
   "cell_type": "code",
   "execution_count": null,
   "metadata": {},
   "outputs": [],
   "source": []
  }
 ],
 "metadata": {
  "kernelspec": {
   "display_name": "openvino_env",
   "language": "python",
   "name": "openvino_env"
  },
  "language_info": {
   "codemirror_mode": {
    "name": "ipython",
    "version": 3
   },
   "file_extension": ".py",
   "mimetype": "text/x-python",
   "name": "python",
   "nbconvert_exporter": "python",
   "pygments_lexer": "ipython3",
   "version": "3.10.11"
  }
 },
 "nbformat": 4,
 "nbformat_minor": 2
}
